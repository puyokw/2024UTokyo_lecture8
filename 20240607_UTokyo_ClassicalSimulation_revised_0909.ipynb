{
 "cells": [
  {
   "cell_type": "markdown",
   "metadata": {},
   "source": [
    "The University of Tokyo  \n",
    "Special Lectures in Information Science Ⅱ  \n",
    "Introduction to Near-Term Quantum Computing  \n",
    "# 8. Classical Simulation\n",
    "Yoshiaki Kawase (Jun 07, 2024)"
   ]
  },
  {
   "cell_type": "code",
   "execution_count": 1,
   "metadata": {},
   "outputs": [],
   "source": [
    "%matplotlib inline\n",
    "import matplotlib.pyplot as plt"
   ]
  },
  {
   "cell_type": "code",
   "execution_count": 2,
   "metadata": {},
   "outputs": [
    {
     "data": {
      "text/plain": [
       "'1.2.0'"
      ]
     },
     "execution_count": 2,
     "metadata": {},
     "output_type": "execute_result"
    }
   ],
   "source": [
    "import qiskit\n",
    "qiskit.__version__"
   ]
  },
  {
   "cell_type": "code",
   "execution_count": 3,
   "metadata": {},
   "outputs": [],
   "source": [
    "import numpy as np\n",
    "import math\n",
    "import random\n",
    "import time\n",
    "\n",
    "from qiskit import QuantumCircuit, transpile\n",
    "from qiskit_aer import AerSimulator\n",
    "\n",
    "#from qiskit_ibm_runtime import EstimatorV2 as Estimator\n",
    "from qiskit_aer.primitives import EstimatorV2 as Estimator\n",
    "from qiskit_aer.primitives import SamplerV2 as Sampler\n",
    "from qiskit.quantum_info import SparsePauliOp"
   ]
  },
  {
   "cell_type": "markdown",
   "metadata": {},
   "source": [
    "## Matrix Product State simulator\n",
    "\n",
    "First, we will use the Matrix Prodcut State simulator to see how it works."
   ]
  },
  {
   "cell_type": "code",
   "execution_count": 4,
   "metadata": {},
   "outputs": [
    {
     "data": {
      "image/png": "[encoded data removed]",
      "text/plain": [
       "<Figure size 1123.41x284.278 with 1 Axes>"
      ]
     },
     "metadata": {},
     "output_type": "display_data"
    }
   ],
   "source": [
    "mps_simulator = AerSimulator(method='matrix_product_state')\n",
    "n_qubits=2\n",
    "seed = 1\n",
    "np.random.seed(seed)\n",
    "random.seed(seed)\n",
    "angles = np.random.rand(9)*math.pi\n",
    "\n",
    "qc = QuantumCircuit(n_qubits, n_qubits)\n",
    "qc.save_matrix_product_state(label='mps_init')\n",
    "qc.u(angles[0], angles[1], angles[2], 0) # prepare a random quantum state\n",
    "qc.u(angles[3], angles[4], angles[5], 1) # prepare a random quantum state\n",
    "qc.save_matrix_product_state(label='mps1')\n",
    "qc.cx(0,1)\n",
    "qc.save_matrix_product_state(label='mps2')\n",
    "qc.measure(range(n_qubits), range(n_qubits))\n",
    "qc.draw(output=\"mpl\")\n",
    "plt.show()"
   ]
  },
  {
   "cell_type": "code",
   "execution_count": 5,
   "metadata": {},
   "outputs": [
    {
     "data": {
      "text/plain": [
       "([(array([[1.+0.j]]), array([[0.+0.j]])),\n",
       "  (array([[1.+0.j]]), array([[0.+0.j]]))],\n",
       " [array([1.])])"
      ]
     },
     "execution_count": 5,
     "metadata": {},
     "output_type": "execute_result"
    }
   ],
   "source": [
    "tqc = transpile(qc, mps_simulator)\n",
    "result = mps_simulator.run(tqc).result()\n",
    "result.data(0)['mps_init']"
   ]
  },
  {
   "cell_type": "markdown",
   "metadata": {},
   "source": [
    "From the qiskit document https://qiskit.github.io/qiskit-aer/tutorials/7_matrix_product_state_method.html#id1,\n",
    "when we use a matrix product state simulator, \n",
    "a quantum state is represented by a canonical form $\\Gamma^{(1)} \\lambda^{(1)} \\cdots \\Gamma^{(n-1)} \\lambda^{(n-1)} \\Gamma^{(n)}$, \n",
    "where $\\Gamma$ represents a tensor and $\\lambda$ represents a normalizing factor.\n",
    "So, the simulator has lists of tensors and normalizing factors. "
   ]
  },
  {
   "cell_type": "markdown",
   "metadata": {},
   "source": [
    "The output of the simulator containing a list of tensors A and B and a list of normalizing factor $\\lambda$.\n",
    "If we describe a quantum state by $ |\\psi_{init}\\rangle = \\sum_{\\sigma_0,\\sigma_1} A^{\\sigma_0} \\lambda B^{\\sigma_1} |\\sigma_0 \\sigma_1 \\rangle$,\n",
    "it contains a list of tensors $[A,B]=[A^0,A^1,B^0,B^1]$ and a normalizing factor $[\\lambda]$. "
   ]
  },
  {
   "cell_type": "markdown",
   "metadata": {},
   "source": [
    "We can see that the initial state $|00\\rangle$ is described by\n",
    "$ |\\psi_{init}\\rangle = \\sum_{\\sigma_0,\\sigma_1} A^{\\sigma_0} \\lambda B^{\\sigma_1} |\\sigma_0 \\sigma_1 \\rangle$, \n",
    "where $A^{0} = 1, A^{1}=0, B^{0}=1, B^{1}=0, \\lambda=1$. "
   ]
  },
  {
   "cell_type": "code",
   "execution_count": 6,
   "metadata": {},
   "outputs": [],
   "source": [
    "A0 = 1\n",
    "A1 = 0\n",
    "B0 = 1\n",
    "B1 = 0"
   ]
  },
  {
   "cell_type": "markdown",
   "metadata": {},
   "source": [
    "Next, we will act an unitary gate U on 0-th qubit. An unitary gate can be described by $2 \\times 2$ matrix"
   ]
  },
  {
   "cell_type": "markdown",
   "metadata": {},
   "source": [
    "$U=\n",
    "\\begin{pmatrix}\n",
    "u_{00} & u_{01} \\\\\n",
    "u_{10} & u_{11}\n",
    "\\end{pmatrix}\n",
    "=u_{00} |0\\rangle \\langle 0|+u_{01} |0\\rangle \\langle 1|+u_{10} |1\\rangle \\langle 0|+u_{11} |1\\rangle \\langle 1|$."
   ]
  },
  {
   "cell_type": "markdown",
   "metadata": {},
   "source": [
    "$(U\\otimes I)|\\psi_{init} \\rangle \n",
    "= \\sum_{\\sigma_0} U A^{\\sigma_0} |\\sigma_0\\rangle \\otimes \\sum_{\\sigma_1} B^{\\sigma_1} |\\sigma_1 \\rangle\n",
    "= \\bigg( ( A^{0}u_{00} + A^{1}u_{01} )|0\\rangle + (A^{0}u_{10} + A^{1}u_{11} ) |1\\rangle \\bigg) \\otimes \\sum_{\\sigma_1} B^{\\sigma_1} |\\sigma_1 \\rangle$"
   ]
  },
  {
   "cell_type": "markdown",
   "metadata": {},
   "source": [
    "From the definition of U gate in qiskit, \n",
    "\n",
    "$U(\\theta_1,\\theta_2,\\theta_3)=\n",
    "\\begin{pmatrix}\n",
    "\\cos{(\\theta_1/2)} & -e^{i\\theta_3}\\sin{(\\theta_1/2)} \\\\\n",
    "e^{i\\theta_2}\\sin{(\\theta_1/2)} & e^{i(\\theta_2+\\theta_3)} \\cos{(\\theta_1/2)}\n",
    "\\end{pmatrix}\n",
    "$"
   ]
  },
  {
   "cell_type": "markdown",
   "metadata": {},
   "source": [
    "we assign the values of $\\theta_1, \\theta_2$ and $\\theta_3$, and then apply the U gate to the quantum state:"
   ]
  },
  {
   "cell_type": "code",
   "execution_count": 7,
   "metadata": {},
   "outputs": [
    {
     "name": "stdout",
     "output_type": "stream",
     "text": [
      "new A^0= (0.7930134282051604+0j) new A^1= (-0.3887996598361402+0.4690037603235188j)\n"
     ]
    }
   ],
   "source": [
    "# From the definition of U gate in qiskit, \n",
    "u00 = np.cos(angles[0]/2)\n",
    "u01 = -np.exp(1.0j*angles[2])*np.sin(angles[0]/2)\n",
    "u10 = np.exp(1.0j*angles[1])*np.sin(angles[0]/2)\n",
    "u11 = np.exp(1.0j*(angles[1]+angles[2]))*np.cos(angles[0]/2)\n",
    "print( \"new A^0=\", A0*u00+A1*u01, \"new A^1=\", A0*u10+A1*u11)"
   ]
  },
  {
   "cell_type": "markdown",
   "metadata": {},
   "source": [
    "Similarly, we calculate $B^0$ and $B^1$ as follows: "
   ]
  },
  {
   "cell_type": "code",
   "execution_count": 8,
   "metadata": {},
   "outputs": [
    {
     "name": "stdout",
     "output_type": "stream",
     "text": [
      "new B^0= (0.8893371274812134+0j) new B^1= (0.4095090690923406+0.20342516072155026j)\n"
     ]
    }
   ],
   "source": [
    "# From the definition of U gate, \n",
    "v00 = np.cos(angles[3]/2)\n",
    "v01 = -np.exp(1.0j*angles[5])*np.sin(angles[3]/2)\n",
    "v10 = np.exp(1.0j*angles[4])*np.sin(angles[3]/2)\n",
    "v11 = np.exp(1.0j*(angles[4]+angles[5]))*np.cos(angles[3]/2)\n",
    "print( \"new B^0=\", B0*v00+B1*u01, \"new B^1=\", B0*v10+B1*v11)"
   ]
  },
  {
   "cell_type": "markdown",
   "metadata": {},
   "source": [
    "Let's see the vlaues of tensors A and B and a normalizing factor $\\lambda$ in the simulator. "
   ]
  },
  {
   "cell_type": "code",
   "execution_count": 9,
   "metadata": {},
   "outputs": [
    {
     "data": {
      "text/plain": [
       "([(array([[0.79301343+0.j]]), array([[-0.38879966+0.46900376j]])),\n",
       "  (array([[0.88933713+0.j]]), array([[0.40950907+0.20342516j]]))],\n",
       " [array([1.])])"
      ]
     },
     "execution_count": 9,
     "metadata": {},
     "output_type": "execute_result"
    }
   ],
   "source": [
    "result.data(0)['mps1']"
   ]
  },
  {
   "cell_type": "markdown",
   "metadata": {},
   "source": [
    "Similar to the above case, \n",
    "the output of the simulator consisting of a list of tensors A and B and a list including normalization factor $\\lambda$.\n",
    "If we describe a quantum state by $ |\\psi_{1}\\rangle = \\sum_{\\sigma_0,\\sigma_1} A^{\\sigma_0} \\lambda B^{\\sigma_1} |\\sigma_0 \\sigma_1 \\rangle$,\n",
    "it contains a list of tensors $[A,B]=[A^0,A^1,B^0,B^1]$ and a normalization factor $[\\lambda]$. "
   ]
  },
  {
   "cell_type": "markdown",
   "metadata": {},
   "source": [
    "From the output, its tensors and normalization factor are "
   ]
  },
  {
   "cell_type": "code",
   "execution_count": 10,
   "metadata": {},
   "outputs": [
    {
     "name": "stdout",
     "output_type": "stream",
     "text": [
      "A^0= [0.79301343+0.j] , A^1= [-0.38879966+0.46900376j] \n",
      "B^0= [0.88933713+0.j] , B^1= [0.40950907+0.20342516j] \n",
      "lambda= [1.]\n"
     ]
    }
   ],
   "source": [
    "print(\"A^0=\", result.data(0)['mps1'][0][0][0][0], \", A^1=\", result.data(0)['mps1'][0][0][1][0], \n",
    "      \"\\nB^0=\", result.data(0)['mps1'][0][1][0][0], \", B^1=\", result.data(0)['mps1'][0][1][1][0], \n",
    "      \"\\nlambda=\", result.data(0)['mps1'][1][0])"
   ]
  },
  {
   "cell_type": "markdown",
   "metadata": {},
   "source": [
    "We can see that the results are consistent with the above calculations."
   ]
  },
  {
   "cell_type": "code",
   "execution_count": 11,
   "metadata": {},
   "outputs": [
    {
     "name": "stdout",
     "output_type": "stream",
     "text": [
      "new A^0= (0.7930134282051604+0j) , new A^1= (-0.3887996598361402+0.4690037603235188j)\n",
      "new B^0= (0.8893371274812134+0j) , new B^1= (0.4095090690923406+0.20342516072155026j)\n"
     ]
    }
   ],
   "source": [
    "print( \"new A^0=\", A0*u00+A1*u01, \", new A^1=\", A0*u10+A1*u11)\n",
    "print( \"new B^0=\", B0*v00+B1*u01, \", new B^1=\", B0*v10+B1*v11)"
   ]
  },
  {
   "cell_type": "markdown",
   "metadata": {},
   "source": [
    "Then, we update the values of tensors in order to see how the simulator works:"
   ]
  },
  {
   "cell_type": "code",
   "execution_count": 12,
   "metadata": {},
   "outputs": [
    {
     "name": "stdout",
     "output_type": "stream",
     "text": [
      "(0.7930134282051604+0j) (-0.3887996598361402+0.4690037603235188j) (0.8893371274812134+0j) (0.4095090690923406+0.20342516072155026j)\n"
     ]
    }
   ],
   "source": [
    "A0 = result.data(0)['mps1'][0][0][0][0][0]\n",
    "A1 = result.data(0)['mps1'][0][0][1][0][0]\n",
    "B0 = result.data(0)['mps1'][0][1][0][0][0]\n",
    "B1 = result.data(0)['mps1'][0][1][1][0][0]\n",
    "print(A0, A1, B0, B1)"
   ]
  },
  {
   "cell_type": "markdown",
   "metadata": {},
   "source": [
    "Next, we apply CNOT gate to the quantum state. "
   ]
  },
  {
   "cell_type": "markdown",
   "metadata": {},
   "source": [
    "CNOT gate is described by\n",
    "$CX_{c,t} = |0_c\\rangle \\langle 0_c| \\otimes I_t + |1_c\\rangle \\langle 1_c| \\otimes X_t$. \n",
    "If we apply $CX_{0,1}$ to $|\\psi_1 \\rangle$, "
   ]
  },
  {
   "cell_type": "markdown",
   "metadata": {},
   "source": [
    "$|\\psi_2 \\rangle := CX_{0,1} |\\psi_1\\rangle= \n",
    "(|0\\rangle \\langle 0| \\otimes I + |1\\rangle \\langle 1| \\otimes X)\n",
    "(A^0 B^0|00\\rangle+A^0 B^1 |01\\rangle+A^1 B^0|10\\rangle+A^1 B^1|11\\rangle)$\n",
    "\n",
    "$=(A^0 B^0|00\\rangle+A^0 B^1 |01\\rangle+A^1 B^1|10\\rangle+A^1 B^0|11\\rangle)$"
   ]
  },
  {
   "cell_type": "markdown",
   "metadata": {},
   "source": [
    "Here, we calculate the amplitudes of the quantum state after applying the CNOT gate. "
   ]
  },
  {
   "cell_type": "code",
   "execution_count": 13,
   "metadata": {},
   "outputs": [
    {
     "name": "stdout",
     "output_type": "stream",
     "text": [
      "(0.7052562842940068+0j) (0.3247461907620209+0.1613188840869823j) (-0.25462415208573974+0.11296966000024053j) (-0.3457739726443458+0.4171024569840057j)\n"
     ]
    }
   ],
   "source": [
    "c00 = A0*B0\n",
    "c01 = A0*B1\n",
    "c10 = A1*B1\n",
    "c11 = A1*B0\n",
    "print(c00, c01, c10, c11)"
   ]
  },
  {
   "cell_type": "markdown",
   "metadata": {},
   "source": [
    "Then, we will decompose $(A^0 B^0|00\\rangle+A^0 B^1 |01\\rangle+A^1 B^1|10\\rangle+A^1 B^0|11\\rangle)$ into matrix product state form using SVD. "
   ]
  },
  {
   "cell_type": "markdown",
   "metadata": {},
   "source": [
    "Here, we consider $|\\psi\\rangle = c_{00} |00\\rangle + c_{01} |01\\rangle + c_{10} |10\\rangle + c_{11} |11\\rangle$ and \n",
    "a matrix consisting of the coefficients\n",
    "$M=\\begin{pmatrix}\n",
    "c_{00} & c_{01} \\\\\n",
    "c_{10} & c_{11}\n",
    "\\end{pmatrix}$. \n",
    "If we apply singular value decomposition(SVD) to it, then we obtain"
   ]
  },
  {
   "cell_type": "markdown",
   "metadata": {},
   "source": [
    "$\\begin{pmatrix}\n",
    "c_{00} & c_{01} \\\\\n",
    "c_{10} & c_{11}\n",
    "\\end{pmatrix}\n",
    "=UDV^\\dagger=\n",
    "\\begin{pmatrix}\n",
    "u_{00} & u_{01} \\\\\n",
    "u_{10} & u_{11}\n",
    "\\end{pmatrix}\n",
    "\\begin{pmatrix}\n",
    "\\lambda_{0} & 0 \\\\\n",
    "0 & \\lambda_{1}\n",
    "\\end{pmatrix}\n",
    "\\begin{pmatrix}\n",
    "v_{00} & v_{01} \\\\\n",
    "v_{10} & v_{11}\n",
    "\\end{pmatrix}$"
   ]
  },
  {
   "cell_type": "markdown",
   "metadata": {},
   "source": [
    "So, the coefficients can be written by $c_{\\sigma_0 \\sigma_1}=\\sum_{k=0}^1 u_{\\sigma_0 k} \\lambda_{k} v_{k\\sigma_1}$. \n",
    "We assign it to $|\\psi\\rangle = c_{00} |00\\rangle + c_{01} |01\\rangle + c_{10} |10\\rangle + c_{11} |11\\rangle$, and we obtain"
   ]
  },
  {
   "cell_type": "markdown",
   "metadata": {},
   "source": [
    "$|\\psi \\rangle=\\sum_{\\sigma_0=0}^1\\sum_{\\sigma_j=0}^1 c_{\\sigma_0\\sigma_1} |\\sigma_0\\rangle |\\sigma_1\\rangle \n",
    "=\\sum_{\\sigma_0=0}^1 \\sum_{\\sigma_1=0}^1 \\sum_{k=0}^1 u_{\\sigma_0 k} \\lambda_k v_{k \\sigma_1} |\\sigma_0\\rangle |\\sigma_1\\rangle$."
   ]
  },
  {
   "cell_type": "markdown",
   "metadata": {},
   "source": [
    "Therefore,\n",
    "by assigning $u_{00}=A_0^0, u_{01}=A_1^0, u_{10}=A_0^1, u_{11}=A_1^1, v_{00}=B_0^0, v_{01}=B_0^1, v_{10}=B_1^0, v_{11}=B_1^1$, \n",
    "we can describe $ |\\psi_2 \\rangle$ as $\\sum_{\\sigma_1=0}^1 \\sum_{\\sigma_0=0}^1 \\sum_{k=0}^1 A^{\\sigma_0}_k \\lambda_k B^{\\sigma_1}_k |\\sigma_0 \\sigma_1 \\rangle$, "
   ]
  },
  {
   "cell_type": "markdown",
   "metadata": {},
   "source": [
    "In order to calculate the values of A, B, and $\\lambda$, we make a coefficient matrix \n",
    "$\\begin{pmatrix}\n",
    "c_{00} & c_{01} \\\\\n",
    "c_{10} & c_{11}\n",
    "\\end{pmatrix}$ \n",
    "and apply SVD to it."
   ]
  },
  {
   "cell_type": "code",
   "execution_count": 14,
   "metadata": {},
   "outputs": [
    {
     "data": {
      "text/plain": [
       "array([[ 0.70525628+0.j        ,  0.32474619+0.16131888j],\n",
       "       [-0.25462415+0.11296966j, -0.34577397+0.41710246j]])"
      ]
     },
     "execution_count": 14,
     "metadata": {},
     "output_type": "execute_result"
    }
   ],
   "source": [
    "M = np.array([\n",
    "    [c00,c01],\n",
    "    [c10,c11]\n",
    "])\n",
    "M"
   ]
  },
  {
   "cell_type": "code",
   "execution_count": 15,
   "metadata": {},
   "outputs": [
    {
     "data": {
      "text/plain": [
       "SVDResult(U=array([[-0.81577887-0.08031113j, -0.51037011+0.25995635j],\n",
       "       [ 0.40698376-0.40301262j, -0.1797446 +0.79977304j]]), S=array([0.9352768, 0.3539171]), Vh=array([[-0.77462551+0.j        , -0.62729957-0.08031542j],\n",
       "       [-0.6324202 +0.j        ,  0.76835346+0.09837506j]]))"
      ]
     },
     "execution_count": 15,
     "metadata": {},
     "output_type": "execute_result"
    }
   ],
   "source": [
    "res = np.linalg.svd(M)\n",
    "rank = len(res.S)\n",
    "# res.U @np.diag(res.S)@res.Vh[:rank,:]\n",
    "res"
   ]
  },
  {
   "cell_type": "markdown",
   "metadata": {},
   "source": [
    "From the result of SVD and the above explanation, we determin the coefficients as follows:"
   ]
  },
  {
   "cell_type": "code",
   "execution_count": 16,
   "metadata": {},
   "outputs": [],
   "source": [
    "A00 = res.U[0][0]\n",
    "A01 = res.U[0][1]\n",
    "A10 = res.U[1][0]\n",
    "A11 = res.U[1][1]\n",
    "lam = res.S\n",
    "B00 = res.Vh[0][0]\n",
    "B01 = res.Vh[1][0]\n",
    "B10 = res.Vh[0][1]\n",
    "B11 = res.Vh[1][1]"
   ]
  },
  {
   "cell_type": "code",
   "execution_count": 17,
   "metadata": {},
   "outputs": [
    {
     "data": {
      "text/plain": [
       "([(array([[ 0.81577887+0.08031113j, -0.51037011+0.25995635j]]),\n",
       "   array([[-0.40698376+0.40301262j, -0.1797446 +0.79977304j]])),\n",
       "  (array([[ 0.77462551-0.j],\n",
       "          [-0.6324202 -0.j]]),\n",
       "   array([[0.62729957+0.08031542j],\n",
       "          [0.76835346+0.09837506j]]))],\n",
       " [array([0.9352768, 0.3539171])])"
      ]
     },
     "execution_count": 17,
     "metadata": {},
     "output_type": "execute_result"
    }
   ],
   "source": [
    "result.data(0)['mps2']"
   ]
  },
  {
   "cell_type": "markdown",
   "metadata": {},
   "source": [
    "This output consisting of lists including tensors A and B and including normalizing factors $\\lambda$.\n",
    "\n",
    "If we describe a quantum state by  $\\sum_{\\sigma_0=0}^1 \\sum_{\\sigma_1=0}^1 \\sum_{k=0}^1 A^{\\sigma_0}_k \\lambda_k B^{\\sigma_1}_k |\\sigma_0 \\sigma_1 \\rangle$,\n",
    "it contains lists including tensors $[A,B]=[[[A^0_0,A^0_1],[A^1_0,A^1_1]],[[B^0_0,B^0_1],[B^1_0,B^1_1]]]$ and including normalizaition factors $[\\lambda_0,\\lambda_1]$. "
   ]
  },
  {
   "cell_type": "markdown",
   "metadata": {},
   "source": [
    "We can see that the eigen values are matched: "
   ]
  },
  {
   "cell_type": "code",
   "execution_count": 18,
   "metadata": {},
   "outputs": [
    {
     "name": "stdout",
     "output_type": "stream",
     "text": [
      "[0.9352768 0.3539171] [array([0.9352768, 0.3539171])]\n"
     ]
    }
   ],
   "source": [
    "print(lam, result.data(0)['mps2'][1])"
   ]
  },
  {
   "cell_type": "markdown",
   "metadata": {},
   "source": [
    "From the simulator outputs, the vlaues of the tensors are"
   ]
  },
  {
   "cell_type": "code",
   "execution_count": 19,
   "metadata": {},
   "outputs": [
    {
     "name": "stdout",
     "output_type": "stream",
     "text": [
      "A^0_0=(0.81577887+0.08031113j), A^0_1=(-0.51037011+0.25995635j), A^1_0=(-0.40698376+0.40301262j), A^1_1=(-0.1797446+0.79977304j)\n",
      "B^0_0=0.77462551, B^0_1=-0.6324202, B^1_0=(0.62729957+0.08031542j), B^1_1=(0.76835346+0.09837506j)\n"
     ]
    }
   ],
   "source": [
    "print(f\"A^0_0={0.81577887+0.08031113j}, A^0_1={-0.51037011+0.25995635j}, A^1_0={-0.40698376+0.40301262j}, A^1_1={-0.1797446 +0.79977304j}\")\n",
    "print(f\"B^0_0={0.77462551}, B^0_1={-0.6324202}, B^1_0={0.62729957+0.08031542j}, B^1_1={0.76835346+0.09837506j}\")"
   ]
  },
  {
   "cell_type": "markdown",
   "metadata": {},
   "source": [
    "Here we describe our calculation results: "
   ]
  },
  {
   "cell_type": "code",
   "execution_count": 20,
   "metadata": {},
   "outputs": [
    {
     "name": "stdout",
     "output_type": "stream",
     "text": [
      "A^0_0=-0.81577887-0.08031113j, A^0_1=-0.51037011+0.25995635j, A^1_0=0.40698376-0.40301262j, A^1_1=-0.17974460+0.79977304j\n",
      "\n",
      "B^0_0=-0.77462551+0.00000000j, B^0_1=-0.63242020+0.00000000j, B^1_0=-0.62729957-0.08031542j, B^1_1=0.76835346+0.09837506j\n"
     ]
    }
   ],
   "source": [
    "print(f\"A^0_0={A00:.8f}, A^0_1={A01:.8f}, A^1_0={A10:.8f}, A^1_1={A11:.8f}\\n\")\n",
    "print(f\"B^0_0={B00:.8f}, B^0_1={B01:.8f}, B^1_0={B10:.8f}, B^1_1={B11:.8f}\")"
   ]
  },
  {
   "cell_type": "markdown",
   "metadata": {},
   "source": [
    "$A_0^0, A_0^1, B_0^0,$ and $B_0^1$ have opposite signs compared to the corresponding values in simulator, \n",
    "but the simulator and the above result represent the same quantum state."
   ]
  },
  {
   "cell_type": "markdown",
   "metadata": {},
   "source": [
    "$|\\psi_2\\rangle = \n",
    "\\lambda_0 \\bigg( (A^0_0 |0\\rangle + A^1_0 |1\\rangle) \\otimes (B^0_0 |0\\rangle + B^1_0 |1\\rangle) \\bigg)\n",
    "+\\lambda_1 \\bigg( (A^0_1 |0\\rangle + A^1_1 |1\\rangle) \\otimes (B^0_1 |0\\rangle + B^1_1 |1\\rangle) \\bigg)$\n",
    "\n",
    "$=\\lambda_0 \\bigg( (-A^0_0 |0\\rangle - A^1_0 |1\\rangle) \\otimes (-B^0_0 |0\\rangle - B^1_0 |1\\rangle) \\bigg)\n",
    "+\\lambda_1 \\bigg( (A^0_1 |0\\rangle + A^1_1 |1\\rangle) \\otimes (B^0_1 |0\\rangle + B^1_1 |1\\rangle) \\bigg)$"
   ]
  },
  {
   "cell_type": "markdown",
   "metadata": {},
   "source": [
    "## Stabilizer simulator"
   ]
  },
  {
   "cell_type": "code",
   "execution_count": 21,
   "metadata": {},
   "outputs": [
    {
     "data": {
      "image/png": "[encoded data removed]",
      "text/plain": [
       "<Figure size 1207.02x284.278 with 1 Axes>"
      ]
     },
     "metadata": {},
     "output_type": "display_data"
    }
   ],
   "source": [
    "stab_simulator = AerSimulator(method='stabilizer')\n",
    "\n",
    "n_qubits = 2\n",
    "qc = QuantumCircuit(n_qubits, n_qubits)\n",
    "qc.save_clifford(label='clf_init')\n",
    "qc.h(0)\n",
    "qc.save_clifford(label='clf_h')\n",
    "qc.cx(0, 1)\n",
    "qc.save_clifford(label='clf_hcx')\n",
    "qc.cz(0, 1)\n",
    "qc.save_clifford(label='clf_hcxcz')\n",
    "qc.measure(range(n_qubits), range(n_qubits))\n",
    "tcirc = transpile(qc, stab_simulator)\n",
    "result = stab_simulator.run(tcirc).result()\n",
    "qc.draw(output=\"mpl\")\n",
    "plt.show()"
   ]
  },
  {
   "cell_type": "markdown",
   "metadata": {},
   "source": [
    "The stabilizer operators of initial state $|00\\rangle$ are $I_2Z_1, Z_2I_1$, so binary table is represented as follows:"
   ]
  },
  {
   "cell_type": "markdown",
   "metadata": {},
   "source": [
    "| |$x_1x_2$|$z_1z_2$|\n",
    "|-|-|-|\n",
    "|$Z_1I_2$|$00$|$10$|\n",
    "|$I_1Z_2$|$00$|$01$|"
   ]
  },
  {
   "cell_type": "code",
   "execution_count": 22,
   "metadata": {},
   "outputs": [
    {
     "data": {
      "text/plain": [
       "array([[0, 0, 1, 0, 0],\n",
       "       [0, 0, 0, 1, 0]])"
      ]
     },
     "execution_count": 22,
     "metadata": {},
     "output_type": "execute_result"
    }
   ],
   "source": [
    "result.data(0)['clf_init'].stab.astype(int)"
   ]
  },
  {
   "cell_type": "markdown",
   "metadata": {},
   "source": [
    "In the simulator, there is an additional column at the end of the table to handle the global phase."
   ]
  },
  {
   "cell_type": "markdown",
   "metadata": {},
   "source": [
    "By swaping the clomun between $x_1$ and $z_1$, \n",
    "we can see the quantum state after H gate is acted on 1st qubit. "
   ]
  },
  {
   "cell_type": "code",
   "execution_count": 23,
   "metadata": {},
   "outputs": [
    {
     "data": {
      "text/plain": [
       "array([[1, 0, 0, 0, 0],\n",
       "       [0, 0, 0, 1, 0]])"
      ]
     },
     "execution_count": 23,
     "metadata": {},
     "output_type": "execute_result"
    }
   ],
   "source": [
    "result.data(0)['clf_h'].stab.astype(int)"
   ]
  },
  {
   "cell_type": "markdown",
   "metadata": {},
   "source": [
    "Current stabilizer is $X_1I_2,I_1Z_2$, so current quantum state is $|0\\rangle \\otimes \\frac{|0\\rangle+|1\\rangle}{\\sqrt{2}}$. (Note that the right most qubit is 1st qubit)"
   ]
  },
  {
   "cell_type": "markdown",
   "metadata": {},
   "source": [
    "We act CNOT gate on 1st qubit as control and 2nd qubit as target qubit. \n",
    "The binary table is updated by $x_2^{new}=x_1\\oplus x_2, z_1^{new}=z_1\\oplus z_2$."
   ]
  },
  {
   "cell_type": "code",
   "execution_count": 24,
   "metadata": {},
   "outputs": [
    {
     "data": {
      "text/plain": [
       "array([[1, 1, 0, 0, 0],\n",
       "       [0, 0, 1, 1, 0]])"
      ]
     },
     "execution_count": 24,
     "metadata": {},
     "output_type": "execute_result"
    }
   ],
   "source": [
    "result.data(0)['clf_hcx'].stab.astype(int)"
   ]
  },
  {
   "cell_type": "markdown",
   "metadata": {},
   "source": [
    "The stabilizer operator is $X_1X_2$ and $Z_1 Z_2$, so current quantum state is $\\frac{|00\\rangle+|11\\rangle}{\\sqrt{2}}$. "
   ]
  },
  {
   "cell_type": "markdown",
   "metadata": {},
   "source": [
    "We act CZ gate on 1st qubit as control qubit and 2nd qubit as target qubit. \n",
    "\n",
    "The bianry table is updated by $z_1^{new}=x_2\\oplus z_1, z_2^{new}=x_1\\oplus z_2$. "
   ]
  },
  {
   "cell_type": "code",
   "execution_count": 25,
   "metadata": {},
   "outputs": [
    {
     "data": {
      "text/plain": [
       "array([[1, 1, 1, 1, 0],\n",
       "       [0, 0, 1, 1, 0]])"
      ]
     },
     "execution_count": 25,
     "metadata": {},
     "output_type": "execute_result"
    }
   ],
   "source": [
    "result.data(0)['clf_hcxcz'].stab.astype(int)"
   ]
  },
  {
   "cell_type": "markdown",
   "metadata": {},
   "source": [
    "The stabilier operators are $Y_1Y_2, Z_1Z_2$, so current quantum state is $(|00\\rangle-|11\\rangle)/\\sqrt{2}$. "
   ]
  },
  {
   "cell_type": "code",
   "execution_count": 26,
   "metadata": {},
   "outputs": [
    {
     "data": {
      "text/plain": [
       "{'0x0': 493, '0x3': 531}"
      ]
     },
     "execution_count": 26,
     "metadata": {},
     "output_type": "execute_result"
    }
   ],
   "source": [
    "result.data(0)['counts']"
   ]
  },
  {
   "cell_type": "markdown",
   "metadata": {},
   "source": [
    "Clifford gates also include single qubit gates whose rotation angle is $m\\pi/2$, where $m$ is an integer."
   ]
  },
  {
   "cell_type": "markdown",
   "metadata": {},
   "source": [
    "# Comparing the execution time between state vector, MPS, and stabilizer simulator \n",
    "Here, we compare the execution time of generating GHZ states"
   ]
  },
  {
   "cell_type": "code",
   "execution_count": 27,
   "metadata": {},
   "outputs": [],
   "source": [
    "statevec_simulator = AerSimulator(method='statevector')\n",
    "stab_simulator = AerSimulator(method='stabilizer')\n",
    "mps_simulator = AerSimulator(method='matrix_product_state')\n",
    "\n",
    "def simulation(n_qubits, simulator):\n",
    "    circ = QuantumCircuit(n_qubits, n_qubits)\n",
    "    circ.h(0)\n",
    "    for i in range (0, n_qubits-1):\n",
    "        circ.cx(i, i+1)\n",
    "    circ.measure(range(n_qubits), range(n_qubits))\n",
    "    tcirc = transpile(circ, simulator)\n",
    "    result = simulator.run(tcirc).result()\n",
    "    return result.time_taken\n",
    "\n",
    "nqubits_state_vec_list = [i for i in range(10,25,2)]\n",
    "nqubits_mps_list = [i for i in range(10,61,5)]\n",
    "nqubits_stab_list = [i for i in range(10,101,5)]\n",
    "statevec_exec_time = [simulation(n_qubits, statevec_simulator) for n_qubits in nqubits_state_vec_list ]\n",
    "mps_exec_time = [simulation(n_qubits, mps_simulator) for n_qubits in nqubits_mps_list]\n",
    "stab_exec_time = [simulation(n_qubits, stab_simulator) for n_qubits in nqubits_stab_list]"
   ]
  },
  {
   "cell_type": "code",
   "execution_count": 28,
   "metadata": {},
   "outputs": [
    {
     "data": {
      "image/png": "[encoded data removed]",
      "text/plain": [
       "<Figure size 640x480 with 1 Axes>"
      ]
     },
     "metadata": {},
     "output_type": "display_data"
    }
   ],
   "source": [
    "plt.scatter(nqubits_state_vec_list, statevec_exec_time, label=\"state_vec\")\n",
    "plt.scatter(nqubits_mps_list, mps_exec_time, label=\"mps\")\n",
    "plt.scatter(nqubits_stab_list, stab_exec_time, label=\"clifford\")\n",
    "plt.xlabel(\"n_qubits\", fontsize=12)\n",
    "plt.xticks(np.linspace(10,100,10),minor=True)\n",
    "plt.ylabel(\"sec\", fontsize=12)\n",
    "#plt.ylim(0,0.3)\n",
    "plt.legend(bbox_to_anchor=(1.05, 1), loc='upper left', borderaxespad=0)\n",
    "plt.show()"
   ]
  },
  {
   "cell_type": "markdown",
   "metadata": {},
   "source": [
    "The stabilizer simulator is fast and can simulate 100 qubits. \n",
    "The MPS simulator is slower than the stabilizer simulator, but can simulate 60 qubits. \n",
    "The state vector simulator is faster than the MPS simulator below 20 qubits (this depends on the cache size),\n",
    "but the execution time and memory requirements increase exponentially above 20 qubits."
   ]
  },
  {
   "cell_type": "markdown",
   "metadata": {},
   "source": [
    "Here, we compare the simulation time of applying Ising Hamiltonian. \n",
    "\n",
    "$H=h \\sum_{i=1}^n X_i + J \\sum_{i=1}^n \\sum_{j=1}^i Z_iZ_j$\n",
    "\n",
    "Using Trotter decomposition,\n",
    "\n",
    "$e^{-iH \\Delta t} \\simeq (\\Pi_{j=1}^n e^{-i h X_j \\Delta t})(\\Pi_{j=1}^n \\Pi_{k=1}^{j-1} e^{-i J Z_j Z_k \\Delta t})$\n",
    "\n",
    "We prepare the initial state as $|+\\rangle^{\\otimes n}$."
   ]
  },
  {
   "cell_type": "code",
   "execution_count": 29,
   "metadata": {},
   "outputs": [],
   "source": [
    "J = np.random.rand()\n",
    "h = np.random.rand()\n",
    "\n",
    "delta = 1e-3\n",
    "def simulating_ising_model(n_qubits, simulator):\n",
    "    qc = QuantumCircuit(n_qubits, n_qubits)\n",
    "    # to prepare |+...+>\n",
    "    for i in range(n_qubits):\n",
    "        qc.h(i)\n",
    "    # time-evolution by Ising Hamiltonian\n",
    "    for i in range(n_qubits):\n",
    "        qc.rx(-2*(-h*delta), i)\n",
    "    for i in range(n_qubits):\n",
    "        for j in range(i):\n",
    "            qc.rzz(-2*(-J*delta), i, j)\n",
    "    qc.measure(range(n_qubits), range(n_qubits))\n",
    "    tcirc = transpile(qc, simulator)\n",
    "    result = simulator.run(tcirc).result()\n",
    "    return result.time_taken\n",
    "\n",
    "nqubits_state_vec_list = [i for i in range(10,25,2)]\n",
    "nqubits_mps_list = [i for i in range(10,61,5)]\n",
    "statevec_exec_time = [simulating_ising_model(n_qubits, statevec_simulator) for n_qubits in nqubits_state_vec_list ]\n",
    "mps_exec_time = [simulating_ising_model(n_qubits, mps_simulator) for n_qubits in nqubits_mps_list]"
   ]
  },
  {
   "cell_type": "code",
   "execution_count": 30,
   "metadata": {},
   "outputs": [
    {
     "data": {
      "image/png": "[encoded data removed]",
      "text/plain": [
       "<Figure size 640x480 with 1 Axes>"
      ]
     },
     "metadata": {},
     "output_type": "display_data"
    }
   ],
   "source": [
    "plt.scatter(nqubits_state_vec_list, statevec_exec_time, label=\"state_vec\")\n",
    "plt.scatter(nqubits_mps_list, mps_exec_time, label=\"mps\")\n",
    "plt.xlabel(\"n_qubits\", fontsize=12)\n",
    "plt.xticks(np.linspace(10,60,11),minor=True)\n",
    "plt.ylabel(\"sec\", fontsize=12)\n",
    "#plt.ylim(0,1.5)\n",
    "plt.legend(bbox_to_anchor=(1.05, 1), loc='upper left', borderaxespad=0)\n",
    "plt.show()"
   ]
  },
  {
   "cell_type": "markdown",
   "metadata": {},
   "source": [
    "Similar to the previous result, matrix product state simulator allows us to simulate a larger system than state vector simulator. "
   ]
  },
  {
   "cell_type": "markdown",
   "metadata": {},
   "source": [
    "# Appendix: Example of Clifford Circuit\n",
    "Here, we present the exmaples of Clifford circuit. First, we perform "
   ]
  },
  {
   "cell_type": "markdown",
   "metadata": {},
   "source": [
    "## Simultaneous Measurements"
   ]
  },
  {
   "cell_type": "markdown",
   "metadata": {},
   "source": [
    "Here, we prepare a random quantum state and evaluate the expectation values using simultaneous measurements. "
   ]
  },
  {
   "cell_type": "code",
   "execution_count": 31,
   "metadata": {},
   "outputs": [],
   "source": [
    "angles = np.random.rand(6)*math.pi/2\n",
    "def qc_exp():\n",
    "    n_qubits = 2\n",
    "    qc = QuantumCircuit(n_qubits, n_qubits)\n",
    "    qc.u(angles[0], angles[1], angles[2], 0) # to prepare a random quantum state \n",
    "    qc.u(angles[3], angles[4], angles[5], 1) # to prepare a random quantum state     \n",
    "    observables = [SparsePauliOp([\"XX\"]),SparsePauliOp([\"YY\"]),SparsePauliOp([\"ZZ\"])]\n",
    "    estimator = Estimator()\n",
    "    job = estimator.run([(qc, observables)])\n",
    "    job_result = job.result()\n",
    "    return qc, job_result[0].data.evs"
   ]
  },
  {
   "cell_type": "code",
   "execution_count": 32,
   "metadata": {},
   "outputs": [
    {
     "data": {
      "image/png": "[encoded data removed]",
      "text/plain": [
       "<Figure size 287.294x284.278 with 1 Axes>"
      ]
     },
     "execution_count": 32,
     "metadata": {},
     "output_type": "execute_result"
    }
   ],
   "source": [
    "qc_sim1, result_sim1 = qc_exp()\n",
    "qc_sim1.draw(output=\"mpl\")"
   ]
  },
  {
   "cell_type": "code",
   "execution_count": 33,
   "metadata": {},
   "outputs": [
    {
     "name": "stdout",
     "output_type": "stream",
     "text": [
      "we've evaluated the expectation values: <psi|XX|psi>= 0.017774195543390898 , <psi|YY|psi>= 0.010384181336040193 , <psi|ZZ|psi>= 0.4741138528411174\n"
     ]
    }
   ],
   "source": [
    "print(\"we've evaluated the expectation values: <psi|XX|psi>=\", result_sim1[0], \", <psi|YY|psi>=\", result_sim1[1], \", <psi|ZZ|psi>=\", result_sim1[2])"
   ]
  },
  {
   "cell_type": "markdown",
   "metadata": {},
   "source": [
    "We add CNOT and H gates to the quantum circuit, and the observables are transformed into IZ, -ZZ, and ZI. "
   ]
  },
  {
   "cell_type": "code",
   "execution_count": 34,
   "metadata": {},
   "outputs": [],
   "source": [
    "def qc_simultaneous_measurement():\n",
    "    n_qubits = 2\n",
    "    qc = QuantumCircuit(n_qubits, n_qubits)\n",
    "    qc.u(angles[0], angles[1], angles[2], 0) # prepare a random quantum state \n",
    "    qc.u(angles[3], angles[4], angles[5], 1) # prepare a random quantum state     \n",
    "    qc.cx(0, 1)\n",
    "    qc.h(0)\n",
    "    # right most is 0th\n",
    "    observables = [SparsePauliOp([\"IZ\"],coeffs=[1.0]),SparsePauliOp([\"ZZ\"],coeffs=[-1.0]),SparsePauliOp([\"ZI\"],coeffs=[1.0])]\n",
    "    estimator = Estimator()\n",
    "    job = estimator.run([(qc, observables)])\n",
    "    job_result = job.result()\n",
    "    return qc, job_result[0].data.evs"
   ]
  },
  {
   "cell_type": "code",
   "execution_count": 35,
   "metadata": {},
   "outputs": [
    {
     "data": {
      "image/png": "[encoded data removed]",
      "text/plain": [
       "<Figure size 287.294x284.278 with 1 Axes>"
      ]
     },
     "metadata": {},
     "output_type": "display_data"
    },
    {
     "data": {
      "image/png": "[encoded data removed]",
      "text/plain": [
       "<Figure size 454.517x284.278 with 1 Axes>"
      ]
     },
     "metadata": {},
     "output_type": "display_data"
    }
   ],
   "source": [
    "qc_sim2, result_sim2 = qc_simultaneous_measurement()\n",
    "qc_sim2.draw(output=\"mpl\")\n",
    "plt.show()"
   ]
  },
  {
   "cell_type": "markdown",
   "metadata": {},
   "source": [
    "We apply CNOT gate and H gate and evaluate the expectation values with $IZ$, $-ZZ$, $ZI$"
   ]
  },
  {
   "cell_type": "code",
   "execution_count": 36,
   "metadata": {},
   "outputs": [
    {
     "name": "stdout",
     "output_type": "stream",
     "text": [
      "we've evaluated the expectation values: <psi'|IZ|psi'>= 0.01777419554339084 , <psi'|-ZZ|psi'>= 0.01038418133604009 , <psi'|ZI|psi'>= 0.4741138528411176\n"
     ]
    }
   ],
   "source": [
    "print(\"we've evaluated the expectation values: <psi'|IZ|psi'>=\", result_sim2[0], \", <psi'|-ZZ|psi'>=\", result_sim2[1], \", <psi'|ZI|psi'>=\", result_sim2[2])"
   ]
  },
  {
   "cell_type": "markdown",
   "metadata": {},
   "source": [
    "These results are correspond to the previous results. "
   ]
  },
  {
   "cell_type": "markdown",
   "metadata": {},
   "source": [
    "Finally, we confirm that we've succeeded to perform simultaneous measurements to evaluate the expectation values using the result of sampling. "
   ]
  },
  {
   "cell_type": "code",
   "execution_count": 37,
   "metadata": {},
   "outputs": [
    {
     "name": "stdout",
     "output_type": "stream",
     "text": [
      "{'00': 3704856, '01': 3667584, '10': 1383776, '11': 1243784}\n"
     ]
    }
   ],
   "source": [
    "n_qubits = 2\n",
    "n_shots = int(1e7)\n",
    "qc = QuantumCircuit(n_qubits, n_qubits)\n",
    "qc.u(angles[0], angles[1], angles[2], 0) # prepare a random quantum state \n",
    "qc.u(angles[3], angles[4], angles[5], 1) # prepare a random quantum state     \n",
    "qc.cx(0, 1)\n",
    "qc.h(0)\n",
    "\n",
    "qc.measure(0,0)\n",
    "qc.measure(1,1)\n",
    "\n",
    "sampler = Sampler(default_shots=n_shots)\n",
    "job = sampler.run([qc])\n",
    "job_result = job.result()\n",
    "result_cnt = job_result[0].data.c.get_counts()\n",
    "\n",
    "print(result_cnt)"
   ]
  },
  {
   "cell_type": "markdown",
   "metadata": {},
   "source": [
    "If we describe a quantum state as $|\\psi^\\prime\\rangle=a|00\\rangle +b|01\\rangle+c|10\\rangle+d|11\\rangle$, \n",
    "\n",
    "we can calculate the expectation values as follows:\n",
    "\n",
    "$\\langle \\psi^\\prime|I_1 Z_0|\\psi^\\prime\\rangle = a^2-b^2+c^2-d^2$\n",
    "\n",
    "$\\langle \\psi^\\prime|Z_1 Z_0|\\psi^\\prime\\rangle = a^2-b^2-c^2+d^2$\n",
    "\n",
    "$\\langle \\psi^\\prime|Z_1 I_0|\\psi^\\prime\\rangle = a^2+b^2-c^2-d^2$"
   ]
  },
  {
   "cell_type": "code",
   "execution_count": 38,
   "metadata": {},
   "outputs": [
    {
     "name": "stdout",
     "output_type": "stream",
     "text": [
      "0.0177264 0.010272 0.474488\n"
     ]
    }
   ],
   "source": [
    "res_iz = result_cnt['00']-result_cnt['01']+result_cnt['10']-result_cnt['11']\n",
    "res_zz = result_cnt['00']-result_cnt['01']-result_cnt['10']+result_cnt['11']\n",
    "res_zi = result_cnt['00']+result_cnt['01']-result_cnt['10']-result_cnt['11']\n",
    "print(res_iz/n_shots, -res_zz/n_shots, res_zi/n_shots)"
   ]
  },
  {
   "cell_type": "markdown",
   "metadata": {},
   "source": [
    "We have succeeded to evaluate the expectation values of $\\langle \\psi|XX|\\psi \\rangle$, $\\langle \\psi|YY|\\psi \\rangle$, and $\\langle \\psi|ZZ|\\psi \\rangle$."
   ]
  },
  {
   "cell_type": "markdown",
   "metadata": {},
   "source": [
    "These expectation values are good approximation of the exact expectation values described above."
   ]
  },
  {
   "cell_type": "markdown",
   "metadata": {},
   "source": [
    "From $XZ-ZX \\neq O$, we can not simultaneously evaluate the expectation values of $\\langle \\psi|X|\\psi \\rangle$ and $\\langle \\psi|Z|\\psi \\rangle$. "
   ]
  },
  {
   "cell_type": "markdown",
   "metadata": {},
   "source": [
    "A simulator does not care about that, so ,first, we obtain the expectation values of $\\langle \\psi|X|\\psi \\rangle$ and $\\langle \\psi|Z|\\psi \\rangle$ by the following code. "
   ]
  },
  {
   "cell_type": "code",
   "execution_count": 39,
   "metadata": {},
   "outputs": [
    {
     "name": "stdout",
     "output_type": "stream",
     "text": [
      "<psi|X|psi>= 0.8352228518884052 <psi|Z|psi>= 0.4745529242594718\n"
     ]
    }
   ],
   "source": [
    "n_qubits = 1\n",
    "qc = QuantumCircuit(n_qubits, n_qubits)\n",
    "qc.u(angles[0], angles[1], angles[2], 0) # to prepare a random quantum state \n",
    "observables = [SparsePauliOp([\"X\"]),SparsePauliOp([\"Z\"])]\n",
    "estimator = Estimator()\n",
    "job = estimator.run([(qc, observables)])\n",
    "result = job.result()[0].data.evs\n",
    "print(\"<psi|X|psi>=\", result[0], \"<psi|Z|psi>=\", result[1])"
   ]
  },
  {
   "cell_type": "code",
   "execution_count": 40,
   "metadata": {},
   "outputs": [
    {
     "name": "stdout",
     "output_type": "stream",
     "text": [
      "{'1': 263083, '0': 736917}\n",
      "<psi|Z|psi>= 0.473834\n"
     ]
    }
   ],
   "source": [
    "n_qubits = 1 \n",
    "n_shots = int(1e6)\n",
    "qc = QuantumCircuit(n_qubits, n_qubits)\n",
    "qc.u(angles[0], angles[1], angles[2], 0) # to prepare a random quantum state \n",
    "qc.measure(0,0)\n",
    "\n",
    "sampler = Sampler(default_shots=n_shots)\n",
    "job = sampler.run([qc])\n",
    "job_result = job.result()\n",
    "result_cnt = job_result[0].data.c.get_counts()\n",
    "print(result_cnt)\n",
    "print('<psi|Z|psi>=', (result_cnt['0']-result_cnt['1'])/n_shots)"
   ]
  },
  {
   "cell_type": "code",
   "execution_count": 41,
   "metadata": {},
   "outputs": [
    {
     "name": "stdout",
     "output_type": "stream",
     "text": [
      "{'0': 917799, '1': 82201}\n",
      "<psi|X|psi>= 0.835598\n"
     ]
    }
   ],
   "source": [
    "qc = QuantumCircuit(n_qubits, n_qubits)\n",
    "qc.u(angles[0], angles[1], angles[2], 0) # to prepare a random quantum state \n",
    "qc.h(0) # add H gate\n",
    "qc.measure(0,0)\n",
    "\n",
    "sampler = Sampler(default_shots=n_shots)\n",
    "job = sampler.run([qc])\n",
    "job_result = job.result()\n",
    "result_cnt = job_result[0].data.c.get_counts()\n",
    "print(result_cnt)\n",
    "print('<psi|X|psi>=', (result_cnt['0']-result_cnt['1'])/n_shots)"
   ]
  },
  {
   "cell_type": "code",
   "execution_count": null,
   "metadata": {},
   "outputs": [],
   "source": []
  }
 ],
 "metadata": {
  "kernelspec": {
   "display_name": "Python 3 (ipykernel)",
   "language": "python",
   "name": "python3"
  },
  "language_info": {
   "codemirror_mode": {
    "name": "ipython",
    "version": 3
   },
   "file_extension": ".py",
   "mimetype": "text/x-python",
   "name": "python",
   "nbconvert_exporter": "python",
   "pygments_lexer": "ipython3",
   "version": "3.10.14"
  }
 },
 "nbformat": 4,
 "nbformat_minor": 4
}
